{
 "cells": [
  {
   "cell_type": "code",
   "execution_count": 1,
   "id": "de4deb84",
   "metadata": {},
   "outputs": [
    {
     "name": "stdout",
     "output_type": "stream",
     "text": [
      "Enter the elements of list3 5 6 8 9\n",
      "3\n",
      "5\n",
      "6\n",
      "8\n",
      "9\n",
      "3\n",
      "5\n",
      "6\n",
      "8\n",
      "9\n",
      "index- 0 value- 3\n",
      "index- 1 value- 5\n",
      "index- 2 value- 6\n",
      "index- 3 value- 8\n",
      "index- 4 value- 9\n"
     ]
    }
   ],
   "source": [
    "List=list(map(int,input(\"Enter the elements of list\").split()))\n",
    "for i in range(len(List)):\n",
    "    print(List[i])\n",
    "for i in range(len(List)):\n",
    "    print(List[i])\n",
    "for index,value in enumerate(List):\n",
    "    print(\"index-\",index,\"value-\",value)"
   ]
  },
  {
   "cell_type": "code",
   "execution_count": null,
   "id": "31e5b41b",
   "metadata": {},
   "outputs": [],
   "source": []
  }
 ],
 "metadata": {
  "kernelspec": {
   "display_name": "Python 3 (ipykernel)",
   "language": "python",
   "name": "python3"
  },
  "language_info": {
   "codemirror_mode": {
    "name": "ipython",
    "version": 3
   },
   "file_extension": ".py",
   "mimetype": "text/x-python",
   "name": "python",
   "nbconvert_exporter": "python",
   "pygments_lexer": "ipython3",
   "version": "3.12.3"
  }
 },
 "nbformat": 4,
 "nbformat_minor": 5
}
