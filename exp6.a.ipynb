{
 "cells": [
  {
   "cell_type": "code",
   "execution_count": 1,
   "id": "3a26230d",
   "metadata": {},
   "outputs": [
    {
     "name": "stdout",
     "output_type": "stream",
     "text": [
      "THe probability of 4 success is - 0.03295898437499997\n",
      "The probability of atleast 1 succes is 0.822021484375\n"
     ]
    }
   ],
   "source": [
    "import scipy.stats as stats\n",
    "n=6\n",
    "p=0.25\n",
    "k=4\n",
    "succ4=stats.binom.pmf(k,n,p)\n",
    "print(\"THe probability of 4 success is -\",succ4)\n",
    "suc1=1-stats.binom.pmf(0,n,p)\n",
    "print(\"The probability of atleast 1 succes is\",suc1)"
   ]
  },
  {
   "cell_type": "code",
   "execution_count": null,
   "id": "aa487ff3",
   "metadata": {},
   "outputs": [],
   "source": []
  }
 ],
 "metadata": {
  "kernelspec": {
   "display_name": "Python 3 (ipykernel)",
   "language": "python",
   "name": "python3"
  },
  "language_info": {
   "codemirror_mode": {
    "name": "ipython",
    "version": 3
   },
   "file_extension": ".py",
   "mimetype": "text/x-python",
   "name": "python",
   "nbconvert_exporter": "python",
   "pygments_lexer": "ipython3",
   "version": "3.12.3"
  }
 },
 "nbformat": 4,
 "nbformat_minor": 5
}
