{
 "cells": [
  {
   "cell_type": "code",
   "execution_count": 1,
   "id": "3ab6a32d",
   "metadata": {},
   "outputs": [
    {
     "name": "stdout",
     "output_type": "stream",
     "text": [
      "Enter the sentence--Am a student of S3 AD\n",
      "Enter the word to be replaced--S3\n",
      "Enter the new word--S4\n",
      "The final sentence is -- Am a student of S4 AD\n"
     ]
    }
   ],
   "source": [
    "sen=input(\"Enter the sentence--\")\n",
    "w1=input(\"Enter the word to be replaced--\")\n",
    "w2=input(\"Enter the new word--\")\n",
    "Fin=sen.replace(w1,w2)\n",
    "print(\"The final sentence is --\",Fin)"
   ]
  },
  {
   "cell_type": "code",
   "execution_count": null,
   "id": "6e2b7c87",
   "metadata": {},
   "outputs": [],
   "source": []
  }
 ],
 "metadata": {
  "kernelspec": {
   "display_name": "Python 3 (ipykernel)",
   "language": "python",
   "name": "python3"
  },
  "language_info": {
   "codemirror_mode": {
    "name": "ipython",
    "version": 3
   },
   "file_extension": ".py",
   "mimetype": "text/x-python",
   "name": "python",
   "nbconvert_exporter": "python",
   "pygments_lexer": "ipython3",
   "version": "3.12.3"
  }
 },
 "nbformat": 4,
 "nbformat_minor": 5
}
