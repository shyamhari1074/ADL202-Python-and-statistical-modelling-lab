{
 "cells": [
  {
   "cell_type": "code",
   "execution_count": null,
   "id": "3cb28816-5eca-4da7-814d-e7c0026dd1c2",
   "metadata": {},
   "outputs": [],
   "source": []
  }
 ],
 "metadata": {
  "kernelspec": {
   "display_name": "",
   "name": ""
  },
  "language_info": {
   "name": ""
  }
 },
 "nbformat": 4,
 "nbformat_minor": 5
}
