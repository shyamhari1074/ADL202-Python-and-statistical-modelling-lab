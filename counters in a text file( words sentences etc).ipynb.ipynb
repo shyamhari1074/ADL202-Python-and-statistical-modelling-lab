{
 "cells": [
  {
   "cell_type": "code",
   "execution_count": 1,
   "id": "3cb28816-5eca-4da7-814d-e7c0026dd1c2",
   "metadata": {},
   "outputs": [
    {
     "name": "stdout",
     "output_type": "stream",
     "text": [
      "The count of no of words is  30\n",
      "The count of sentences is  3\n",
      "The number of uppercase words is  25\n",
      "The number of count of lower case is 101\n",
      "The number of special charcaters  4\n"
     ]
    }
   ],
   "source": [
    "data=open(\"avsh.txt\",\"r\")\n",
    "text=data.read()\n",
    "count=len(text.split())\n",
    "print(\"The count of no of words is \",count)\n",
    "countsen=text.count(\".\")\n",
    "print(\"The count of sentences is \",countsen)\n",
    "countup=sum(1 for char in text if char.isupper())\n",
    "print(\"The number of uppercase words is \",countup)\n",
    "countdo=sum(1 for char in text if char.islower())\n",
    "print(\"The number of count of lower case is\",countdo)\n",
    "special=sum(1 for char in text if not char.isalnum() and not char.isspace())\n",
    "print(\"The number of special charcaters \",special)\n",
    "\n"
   ]
  },
  {
   "cell_type": "code",
   "execution_count": null,
   "id": "2445e643-319f-4d91-b6a2-f5809fe26bab",
   "metadata": {},
   "outputs": [],
   "source": []
  }
 ],
 "metadata": {
  "kernelspec": {
   "display_name": "Python 3 (ipykernel)",
   "language": "python",
   "name": "python3"
  },
  "language_info": {
   "codemirror_mode": {
    "name": "ipython",
    "version": 3
   },
   "file_extension": ".py",
   "mimetype": "text/x-python",
   "name": "python",
   "nbconvert_exporter": "python",
   "pygments_lexer": "ipython3",
   "version": "3.13.0"
  }
 },
 "nbformat": 4,
 "nbformat_minor": 5
}
