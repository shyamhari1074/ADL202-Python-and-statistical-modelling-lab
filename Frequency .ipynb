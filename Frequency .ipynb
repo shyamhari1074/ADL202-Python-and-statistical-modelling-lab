{
 "cells": [
  {
   "cell_type": "code",
   "execution_count": 2,
   "id": "30a25234",
   "metadata": {},
   "outputs": [
    {
     "name": "stdout",
     "output_type": "stream",
     "text": [
      "Enter the numbers of list2 3 4 4 4 5 \n",
      "Enter the number to be checked for its frequency4\n",
      "The number 4 occurred - 3 Times\n"
     ]
    }
   ],
   "source": [
    "def freq(data,check):\n",
    "    count = 0\n",
    "    for i in range(len(data)):\n",
    "        if data[i]==check:\n",
    "            count+=1\n",
    "    return count\n",
    "List=list(map(int,input(\"Enter the numbers of list\").split()))\n",
    "checker=int(input(\"Enter the number to be checked for its frequency\"))\n",
    "fin=freq(List,checker)\n",
    "print(\"The number\",checker,\"occurred -\",fin,\"Times\")"
   ]
  },
  {
   "cell_type": "code",
   "execution_count": null,
   "id": "84da287e",
   "metadata": {},
   "outputs": [],
   "source": []
  }
 ],
 "metadata": {
  "kernelspec": {
   "display_name": "Python 3 (ipykernel)",
   "language": "python",
   "name": "python3"
  },
  "language_info": {
   "codemirror_mode": {
    "name": "ipython",
    "version": 3
   },
   "file_extension": ".py",
   "mimetype": "text/x-python",
   "name": "python",
   "nbconvert_exporter": "python",
   "pygments_lexer": "ipython3",
   "version": "3.12.3"
  }
 },
 "nbformat": 4,
 "nbformat_minor": 5
}
