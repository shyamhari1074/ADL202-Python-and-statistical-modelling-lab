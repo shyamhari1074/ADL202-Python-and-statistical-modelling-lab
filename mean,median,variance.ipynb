{
 "cells": [
  {
   "cell_type": "code",
   "execution_count": 8,
   "id": "ac4c5beb-17e6-407c-9dc7-c90dd8718fee",
   "metadata": {},
   "outputs": [
    {
     "name": "stdout",
     "output_type": "stream",
     "text": [
      "The mean of population is 7694135.625\n",
      "The mean of population is 4176916.5\n",
      "The mean of population is 128230435522129.22\n"
     ]
    }
   ],
   "source": [
    "import numpy as np \n",
    "import pandas as pd \n",
    "table={\n",
    "    \"States\":[\"Alabama\",\"Alaska\",\"Arizona\",\"Arkansas\",\"California\",\" Colorado\",\"Connecticut\",\"Delaware\"],\n",
    "    \"Population\":[4779736,710231,6392017,2915918,37253956,5029196,3574097,897934],\n",
    "    \"Murder\":[5.7,5.6,4.7,5.6,4.4,2.8,2.4,5.8]\n",
    "}\n",
    "df=pd.DataFrame(table)\n",
    "meanpop=np.mean(df[\"Population\"])\n",
    "medianpop=np.median(df[\"Population\"])\n",
    "variancepop=np.var(df[\"Population\"])\n",
    "print(\"The mean of population is\",meanpop)\n",
    "print(\"The mean of population is\",medianpop)\n",
    "print(\"The mean of population is\",variancepop)"
   ]
  },
  {
   "cell_type": "code",
   "execution_count": null,
   "id": "2799e17e-d671-42eb-9cb1-5b900b5b6ec2",
   "metadata": {},
   "outputs": [],
   "source": [
    "\n"
   ]
  },
  {
   "cell_type": "code",
   "execution_count": null,
   "id": "3f8a211c-d2ce-453e-975c-dcd64fc373ae",
   "metadata": {},
   "outputs": [],
   "source": []
  }
 ],
 "metadata": {
  "kernelspec": {
   "display_name": "Python 3 (ipykernel)",
   "language": "python",
   "name": "python3"
  },
  "language_info": {
   "codemirror_mode": {
    "name": "ipython",
    "version": 3
   },
   "file_extension": ".py",
   "mimetype": "text/x-python",
   "name": "python",
   "nbconvert_exporter": "python",
   "pygments_lexer": "ipython3",
   "version": "3.13.0"
  }
 },
 "nbformat": 4,
 "nbformat_minor": 5
}
