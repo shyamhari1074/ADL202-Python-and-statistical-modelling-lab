{
 "cells": [
  {
   "cell_type": "code",
   "execution_count": 3,
   "id": "413784e4",
   "metadata": {},
   "outputs": [
    {
     "name": "stdout",
     "output_type": "stream",
     "text": [
      "Enter a stringShyam\n",
      "S\n",
      "h\n",
      "y\n",
      "a\n",
      "m\n",
      "index - 0 char S\n",
      "index - 1 char h\n",
      "index - 2 char y\n",
      "index - 3 char a\n",
      "index - 4 char m\n"
     ]
    }
   ],
   "source": [
    "s=input(\"Enter a string\")\n",
    "for i in range(len(s)):\n",
    "    print(s[i])\n",
    "for index,char in enumerate(s):\n",
    "    print(\"index -\",index,\"char\",char)"
   ]
  },
  {
   "cell_type": "code",
   "execution_count": null,
   "id": "f44a4a32",
   "metadata": {},
   "outputs": [],
   "source": []
  }
 ],
 "metadata": {
  "kernelspec": {
   "display_name": "Python 3 (ipykernel)",
   "language": "python",
   "name": "python3"
  },
  "language_info": {
   "codemirror_mode": {
    "name": "ipython",
    "version": 3
   },
   "file_extension": ".py",
   "mimetype": "text/x-python",
   "name": "python",
   "nbconvert_exporter": "python",
   "pygments_lexer": "ipython3",
   "version": "3.12.3"
  }
 },
 "nbformat": 4,
 "nbformat_minor": 5
}
