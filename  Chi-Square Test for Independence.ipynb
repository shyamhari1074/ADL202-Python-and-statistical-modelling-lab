{
 "cells": [
  {
   "cell_type": "code",
   "execution_count": 8,
   "id": "1aa52379-e3fe-46d2-8002-d284ae6c0fe4",
   "metadata": {},
   "outputs": [
    {
     "name": "stdout",
     "output_type": "stream",
     "text": [
      "The chi Sqr value is- 8.006066246262538\n",
      "The p_value is - 0.04588650089174722\n",
      "Gender and education level are independent.\n"
     ]
    }
   ],
   "source": [
    "import scipy.stats as stats\n",
    "table=[[60,54,46,41],\n",
    "      [40,44,53,57]]\n",
    "chi2,pvalue,_,_=stats.chi2_contingency(table)\n",
    "print(\"The chi Sqr value is-\",chi2_stat)\n",
    "print(\"The p_value is -\",p_value)\n",
    "if p_value<0.005:\n",
    "       print(\"Gender and education level are dependent.\")\n",
    "else:\n",
    "    print(\"Gender and education level are independent.\")"
   ]
  },
  {
   "cell_type": "code",
   "execution_count": null,
   "id": "ad096604-4c6e-479b-b2b3-d80280e37d68",
   "metadata": {},
   "outputs": [],
   "source": []
  }
 ],
 "metadata": {
  "kernelspec": {
   "display_name": "Python 3 (ipykernel)",
   "language": "python",
   "name": "python3"
  },
  "language_info": {
   "codemirror_mode": {
    "name": "ipython",
    "version": 3
   },
   "file_extension": ".py",
   "mimetype": "text/x-python",
   "name": "python",
   "nbconvert_exporter": "python",
   "pygments_lexer": "ipython3",
   "version": "3.13.0"
  }
 },
 "nbformat": 4,
 "nbformat_minor": 5
}
