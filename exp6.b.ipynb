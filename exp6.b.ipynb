{
 "cells": [
  {
   "cell_type": "code",
   "execution_count": 1,
   "id": "f6b62625",
   "metadata": {},
   "outputs": [
    {
     "name": "stdout",
     "output_type": "stream",
     "text": [
      "The poisson distribution is - 0.1858245920237596\n"
     ]
    }
   ],
   "source": [
    "import scipy.stats as stats\n",
    "mean=3.4\n",
    "k=4\n",
    "prob=stats.poisson.pmf(k,mean)\n",
    "print(\"The poisson distribution is -\",prob)"
   ]
  },
  {
   "cell_type": "code",
   "execution_count": null,
   "id": "57777d32",
   "metadata": {},
   "outputs": [],
   "source": []
  }
 ],
 "metadata": {
  "kernelspec": {
   "display_name": "Python 3 (ipykernel)",
   "language": "python",
   "name": "python3"
  },
  "language_info": {
   "codemirror_mode": {
    "name": "ipython",
    "version": 3
   },
   "file_extension": ".py",
   "mimetype": "text/x-python",
   "name": "python",
   "nbconvert_exporter": "python",
   "pygments_lexer": "ipython3",
   "version": "3.12.3"
  }
 },
 "nbformat": 4,
 "nbformat_minor": 5
}
