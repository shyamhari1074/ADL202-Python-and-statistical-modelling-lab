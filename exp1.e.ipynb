{
 "cells": [
  {
   "cell_type": "code",
   "execution_count": 5,
   "id": "667fe52b",
   "metadata": {
    "scrolled": true
   },
   "outputs": [
    {
     "name": "stdout",
     "output_type": "stream",
     "text": [
      "Enter the term 1 :7\n",
      "Enter the term 2 :8\n",
      "Enter the term 3 :9\n",
      "9  is largest\n"
     ]
    }
   ],
   "source": [
    "a=int(input(\"Enter the term 1 :\"))\n",
    "b=int(input(\"Enter the term 2 :\"))\n",
    "c=int(input(\"Enter the term 3 :\"))\n",
    "if a>b & a>c:\n",
    "    print(\"The largest is \",a)\n",
    "elif b>a & b>c:\n",
    "    print(\"The largest is \",b)\n",
    "else:\n",
    "    print(c,\" is largest\")"
   ]
  },
  {
   "cell_type": "code",
   "execution_count": 11,
   "id": "539f5cf9",
   "metadata": {},
   "outputs": [
    {
     "name": "stdout",
     "output_type": "stream",
     "text": [
      "Enter the term 1 :55\n",
      "Enter the term 2 :77\n",
      "Enter the term 3 :11\n",
      "The largest is  77\n"
     ]
    }
   ],
   "source": [
    "a=int(input(\"Enter the term 1 :\"))\n",
    "b=int(input(\"Enter the term 2 :\"))\n",
    "c=int(input(\"Enter the term 3 :\"))\n",
    "if a>b:\n",
    "    if a>c:\n",
    "        print(\"The largest is \",a)\n",
    "elif b>a :\n",
    "    if b>c:\n",
    "        print(\"The largest is \",b)\n",
    "else:\n",
    "    print(c,\" is largest\")\n"
   ]
  },
  {
   "cell_type": "code",
   "execution_count": null,
   "id": "033715d2",
   "metadata": {},
   "outputs": [],
   "source": []
  }
 ],
 "metadata": {
  "kernelspec": {
   "display_name": "Python 3 (ipykernel)",
   "language": "python",
   "name": "python3"
  },
  "language_info": {
   "codemirror_mode": {
    "name": "ipython",
    "version": 3
   },
   "file_extension": ".py",
   "mimetype": "text/x-python",
   "name": "python",
   "nbconvert_exporter": "python",
   "pygments_lexer": "ipython3",
   "version": "3.12.3"
  }
 },
 "nbformat": 4,
 "nbformat_minor": 5
}
