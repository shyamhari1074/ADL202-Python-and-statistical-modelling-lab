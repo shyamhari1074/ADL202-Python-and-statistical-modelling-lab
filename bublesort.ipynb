{
 "cells": [
  {
   "cell_type": "code",
   "execution_count": 3,
   "id": "907711cc",
   "metadata": {},
   "outputs": [
    {
     "name": "stdout",
     "output_type": "stream",
     "text": [
      "Enter the numbers 2 4 1 3 7 0 8\n",
      "The Original list is- [2, 4, 1, 3, 7, 0, 8]\n",
      "The sorted list is - [0, 1, 2, 3, 4, 7, 8]\n"
     ]
    }
   ],
   "source": [
    "def bubble(arr):\n",
    "    n=len(arr)\n",
    "    for i in range(n):\n",
    "        for j in range(0,n-i-1):\n",
    "            if arr[j]>arr[j+1]:\n",
    "                arr[j],arr[j+1]=arr[j+1],arr[j]\n",
    "    return arr\n",
    "data=list(map(int,input(\"Enter the numbers \").split()))\n",
    "print(\"The Original list is-\",data)\n",
    "dat1=bubble(data)\n",
    "print(\"The sorted list is -\",dat1)"
   ]
  },
  {
   "cell_type": "code",
   "execution_count": null,
   "id": "2eb7bf7f",
   "metadata": {},
   "outputs": [],
   "source": []
  }
 ],
 "metadata": {
  "kernelspec": {
   "display_name": "Python 3 (ipykernel)",
   "language": "python",
   "name": "python3"
  },
  "language_info": {
   "codemirror_mode": {
    "name": "ipython",
    "version": 3
   },
   "file_extension": ".py",
   "mimetype": "text/x-python",
   "name": "python",
   "nbconvert_exporter": "python",
   "pygments_lexer": "ipython3",
   "version": "3.12.3"
  }
 },
 "nbformat": 4,
 "nbformat_minor": 5
}
