{
 "cells": [
  {
   "cell_type": "code",
   "execution_count": 8,
   "id": "91297f25-7624-46b2-87fe-804043f817dc",
   "metadata": {},
   "outputs": [
    {
     "name": "stdout",
     "output_type": "stream",
     "text": [
      "The mean is  39.642857142857146 \n",
      "The median is  38.75 \n",
      " The Variance is  253.4438775510204 The cv is\n",
      " sd is  40.15835871715796 15.91992077715905\n"
     ]
    }
   ],
   "source": [
    "import numpy as np\n",
    "classs=[(0,10),(10,20),(20,30),(30,40),(40,50),(50,60),(60,70),(70,80)]\n",
    "freq=[5,10,20,40,30,20,10,5]\n",
    "mid=[(a+b)/2 for a,b in classs]\n",
    "N=sum(freq)\n",
    "mean = sum(f * x for f, x in zip(freq, mid)) / N\n",
    "cf=np.cumsum(freq)l\n",
    "mc=next( i for i,cf in enumerate(cf) if cf>= N/2)\n",
    "L=classs[mc][0]\n",
    "F=freq[mc]\n",
    "CF=cf[mc-1]\n",
    "h=10\n",
    "median=L+(N/2 - CF)/F * h\n",
    "var=sum(f*(mean -x)**2 for f,x in zip(freq,mid))/N\n",
    "sd=np.sqrt(var)\n",
    "cv=(sd/mean)*100\n",
    "se=(sd/len(freq)**0.5)\n",
    "print(\"The mean is \",mean,\"\\nThe median is \",median,\"\\n The Variance is \",var,\"The cv is\\n sd is \",cv,sd)\n"
   ]
  },
  {
   "cell_type": "code",
   "execution_count": 12,
   "id": "02dfe28c-e35b-4c7f-b8ce-6ea6b55b0d85",
   "metadata": {},
   "outputs": [
    {
     "data": {
      "text/plain": [
       "np.float64(1.5968749999999998)"
      ]
     },
     "execution_count": 12,
     "metadata": {},
     "output_type": "execute_result"
    }
   ],
   "source": [
    "States=[\"Alabama\",\"Alaska\",\"Arizona\",\"Arkansas\",\"California\",\" Colorado\",\"Connecticut\",\"Delaware\"]\n",
    "Pop=[4779736,710231,6392017,2915918,37253956,5029196,3574097,897934]\n",
    "Murder=[5.7,5.6,4.7,5.6,4.4,2.8,2.4,5.8]\n",
    "import numpy as np\n",
    "var=np.var(Murder)\n",
    "sd=np.sqrt(var)\n",
    "mean=np.mean(Pop)\n",
    "var\n"
   ]
  },
  {
   "cell_type": "code",
   "execution_count": 13,
   "id": "fddbe575-0025-4e26-8882-ac3249dcf053",
   "metadata": {},
   "outputs": [
    {
     "name": "stdout",
     "output_type": "stream",
     "text": [
      "2.6666666666666665 0.017595153068163727\n"
     ]
    }
   ],
   "source": [
    "#ttest\n",
    "mean=22\n",
    "pmean=20\n",
    "sd=3\n",
    "n=16\n",
    "import scipy.stats as stats\n",
    "tst=(mean-pmean)/(sd/(n**0.5))\n",
    "pvalue=2*(1-stats.t.cdf(abs(tst),df=n-1))\n",
    "print(tst,pvalue)"
   ]
  },
  {
   "cell_type": "code",
   "execution_count": 18,
   "id": "65c84aa8-27fd-4e30-a6c8-1b6fdf0665fb",
   "metadata": {},
   "outputs": [
    {
     "name": "stdout",
     "output_type": "stream",
     "text": [
      "The chi2 value is- 8.006066246262538 \n",
      " The pvalue is  0.04588650089174722\n",
      "WE rejeect the hypothese\n"
     ]
    }
   ],
   "source": [
    "#chi2\n",
    "import scipy.stats as stats\n",
    "table=np.array([[60,54,46,41],\n",
    "                [40,44,53,57]])\n",
    "chi2,pvalue,dof,exp=stats.chi2_contingency(table)\n",
    "print(\"The chi2 value is-\",chi2,\"\\n The pvalue is \",pvalue)\n",
    "if pvalue<0.05:\n",
    "    print(\"WE rejeect the hypothese\")\n",
    "else:\n",
    "    print(\"We accept the hypothesis\")"
   ]
  },
  {
   "cell_type": "code",
   "execution_count": 22,
   "id": "88877db6-69df-40bf-a9c8-b2aed6cc29b8",
   "metadata": {},
   "outputs": [
    {
     "name": "stdout",
     "output_type": "stream",
     "text": [
      "3 0 164 5 216\n"
     ]
    }
   ],
   "source": [
    "#file\n",
    "file=open(\"check.txt\",\"r\")\n",
    "data=file.read()\n",
    "length=len(data)\n",
    "up=sum(1 for char in data if char.isupper())\n",
    "down=sum(1 for char in data if char.islower())\n",
    "spcl=sum(1 for char in data if not char.isalnum and not char.isspace())\n",
    "count=data.count(\".\")\n",
    "print(count,spcl,down,up,length)"
   ]
  },
  {
   "cell_type": "code",
   "execution_count": 24,
   "id": "8d6d367d-58b6-46a1-bb6d-f8c582ddb982",
   "metadata": {},
   "outputs": [
    {
     "name": "stdout",
     "output_type": "stream",
     "text": [
      "The prime nos are - [3, 5, 7]\n"
     ]
    }
   ],
   "source": [
    "#prime\n",
    "file=open(\"hello.txt\",\"r\")\n",
    "data=file.read()\n",
    "num=list(map(int,data.split()))\n",
    "prime=[]\n",
    "def isprime(num):\n",
    "    if num<=1:\n",
    "        return False\n",
    "    for i in range(2,num):\n",
    "        if num%i==0:\n",
    "            return False\n",
    "        return True\n",
    "for nums in num:\n",
    "    if isprime(nums):\n",
    "        prime.append(nums)\n",
    "print(\"The prime nos are -\",prime)\n",
    "        \n",
    "        \n",
    "        "
   ]
  },
  {
   "cell_type": "code",
   "execution_count": 27,
   "id": "1c6b81b6-db28-443d-bd12-480572127dca",
   "metadata": {},
   "outputs": [
    {
     "data": {
      "text/plain": [
       "np.float64(0.1858245920237596)"
      ]
     },
     "execution_count": 27,
     "metadata": {},
     "output_type": "execute_result"
    }
   ],
   "source": [
    "#poisson\n",
    "mean=3.4\n",
    "k=4\n",
    "import scipy.stats as stats\n",
    "poi=stats.poisson.pmf(k,mean)\n",
    "poi"
   ]
  },
  {
   "cell_type": "code",
   "execution_count": 29,
   "id": "89a9c9b5-8e87-4f63-8393-b8616d20a6b3",
   "metadata": {},
   "outputs": [],
   "source": [
    "#binomial\n",
    "n=6\n",
    "p=0.25\n",
    "k=4\n",
    "import scipy.stats as stats\n",
    "bino=stats.binom.pmf(k,n,p)\n",
    "succ1=1-stats.binom.pmf(0,n,p)"
   ]
  },
  {
   "cell_type": "code",
   "execution_count": null,
   "id": "8f4370d0-cd45-4039-acfe-910ac6742f73",
   "metadata": {},
   "outputs": [],
   "source": []
  }
 ],
 "metadata": {
  "kernelspec": {
   "display_name": "Python 3 (ipykernel)",
   "language": "python",
   "name": "python3"
  },
  "language_info": {
   "codemirror_mode": {
    "name": "ipython",
    "version": 3
   },
   "file_extension": ".py",
   "mimetype": "text/x-python",
   "name": "python",
   "nbconvert_exporter": "python",
   "pygments_lexer": "ipython3",
   "version": "3.13.0"
  }
 },
 "nbformat": 4,
 "nbformat_minor": 5
}
