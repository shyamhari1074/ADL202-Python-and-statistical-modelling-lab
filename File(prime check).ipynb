{
 "cells": [
  {
   "cell_type": "code",
   "execution_count": 2,
   "id": "c3957b92-ca82-4667-a702-dcec6147f1d2",
   "metadata": {},
   "outputs": [
    {
     "data": {
      "text/plain": [
       "[2, 3, 5, 7]"
      ]
     },
     "execution_count": 2,
     "metadata": {},
     "output_type": "execute_result"
    }
   ],
   "source": [
    "data=open(\"avsh.txt\",\"r\")\n",
    "text=data.read()\n",
    "nums=list(map(int,text.split()))\n",
    "def prime(num):\n",
    "    if num<=1:\n",
    "        return False\n",
    "    for i in range(2,num):\n",
    "        if num%i==0:\n",
    "            return False\n",
    "    return True\n",
    "prime=[num for num in nums if prime(num)]\n",
    "prime"
   ]
  },
  {
   "cell_type": "code",
   "execution_count": null,
   "id": "e51ff017-81d8-4efa-b269-d151b4d40fcc",
   "metadata": {},
   "outputs": [],
   "source": []
  }
 ],
 "metadata": {
  "kernelspec": {
   "display_name": "Python 3 (ipykernel)",
   "language": "python",
   "name": "python3"
  },
  "language_info": {
   "codemirror_mode": {
    "name": "ipython",
    "version": 3
   },
   "file_extension": ".py",
   "mimetype": "text/x-python",
   "name": "python",
   "nbconvert_exporter": "python",
   "pygments_lexer": "ipython3",
   "version": "3.13.0"
  }
 },
 "nbformat": 4,
 "nbformat_minor": 5
}
