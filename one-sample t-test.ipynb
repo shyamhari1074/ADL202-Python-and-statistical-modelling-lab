{
 "cells": [
  {
   "cell_type": "code",
   "execution_count": 2,
   "id": "ed4d3c0a-f22f-46c1-9a95-775fbc38e56b",
   "metadata": {},
   "outputs": [
    {
     "name": "stdout",
     "output_type": "stream",
     "text": [
      "t-Statistic: 2.6666666666666665\n",
      "P-Value: 0.017595153068163727\n",
      "Reject the null hypothesis\n"
     ]
    }
   ],
   "source": [
    "import scipy.stats as stats\n",
    "samplemean=22\n",
    "popmean=20\n",
    "samplesd=3\n",
    "n=16\n",
    "t_stat=(samplemean-popmean)/(samplesd/(n**0.5))\n",
    "p_value=2*(1-stats.t.cdf(abs(t_stat),df=n-1))\n",
    "print(\"t-Statistic:\", t_stat)\n",
    "print(\"P-Value:\", p_value)\n",
    "\n",
    "\n",
    "if p_value < 0.05:\n",
    "    print(\"Reject the null hypothesis\")\n",
    "else:\n",
    "    print(\"Fail to reject the null hypothesis\")"
   ]
  },
  {
   "cell_type": "code",
   "execution_count": null,
   "id": "3c5cd2e9-f1b5-48dd-9d17-f67007054b14",
   "metadata": {},
   "outputs": [],
   "source": []
  }
 ],
 "metadata": {
  "kernelspec": {
   "display_name": "Python 3 (ipykernel)",
   "language": "python",
   "name": "python3"
  },
  "language_info": {
   "codemirror_mode": {
    "name": "ipython",
    "version": 3
   },
   "file_extension": ".py",
   "mimetype": "text/x-python",
   "name": "python",
   "nbconvert_exporter": "python",
   "pygments_lexer": "ipython3",
   "version": "3.13.0"
  }
 },
 "nbformat": 4,
 "nbformat_minor": 5
}
