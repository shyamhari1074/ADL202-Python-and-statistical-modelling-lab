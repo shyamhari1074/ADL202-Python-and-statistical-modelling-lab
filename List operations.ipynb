{
 "cells": [
  {
   "cell_type": "code",
   "execution_count": 2,
   "id": "7dd8ff94",
   "metadata": {},
   "outputs": [
    {
     "name": "stdout",
     "output_type": "stream",
     "text": [
      "Enter the elements-2 3 1 4 5\n",
      "Enter the no to append6\n",
      "List elements - [2, 3, 1, 4, 5, 6]\n",
      "Enter the index-3\n",
      "Enter the value-0\n",
      "List elements - [2, 3, 1, 0, 4, 5, 6]\n",
      "Enter the no2\n",
      "List elements - [3, 1, 0, 4, 5, 6]\n",
      "The sorted and reversed is - [6, 5, 4, 3, 1, 0]\n"
     ]
    }
   ],
   "source": [
    "List=list(map(int,input(\"Enter the elements-\").split()))\n",
    "List.append(int(input(\"Enter the no to append\")))\n",
    "print(\"List elements -\",List)\n",
    "List.insert(int(input(\"Enter the index-\")),int(input(\"Enter the value-\")))\n",
    "print(\"List elements -\",List)\n",
    "List.remove(int(input(\"Enter the no\")))\n",
    "print(\"List elements -\",List)\n",
    "List.sort(reverse=True)\n",
    "print(\"The sorted and reversed is -\",List)\n"
   ]
  },
  {
   "cell_type": "code",
   "execution_count": null,
   "id": "cec1a98b",
   "metadata": {},
   "outputs": [],
   "source": []
  }
 ],
 "metadata": {
  "kernelspec": {
   "display_name": "Python 3 (ipykernel)",
   "language": "python",
   "name": "python3"
  },
  "language_info": {
   "codemirror_mode": {
    "name": "ipython",
    "version": 3
   },
   "file_extension": ".py",
   "mimetype": "text/x-python",
   "name": "python",
   "nbconvert_exporter": "python",
   "pygments_lexer": "ipython3",
   "version": "3.12.3"
  }
 },
 "nbformat": 4,
 "nbformat_minor": 5
}
